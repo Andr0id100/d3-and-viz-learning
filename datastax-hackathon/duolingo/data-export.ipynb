{
 "cells": [
  {
   "cell_type": "code",
   "execution_count": 8,
   "id": "ff5fb086",
   "metadata": {},
   "outputs": [],
   "source": [
    "import pandas as pd\n",
    "import json"
   ]
  },
  {
   "cell_type": "code",
   "execution_count": 2,
   "id": "a3c9ee41",
   "metadata": {},
   "outputs": [],
   "source": [
    "with open(\"slam-data/es_en.slam.20190204.dev\", \"r\") as f:\n",
    "    raw_data = f.read()"
   ]
  },
  {
   "cell_type": "code",
   "execution_count": 3,
   "id": "572b9497",
   "metadata": {},
   "outputs": [],
   "source": [
    "with open(\"slam-data/es_en.slam.20190204.dev.key\", \"r\") as f:\n",
    "    raw_success_data = f.read()"
   ]
  },
  {
   "cell_type": "code",
   "execution_count": 4,
   "id": "5f258b05",
   "metadata": {},
   "outputs": [],
   "source": [
    "success_key = {}\n",
    "for x in raw_success_data.split(\"\\n\"):\n",
    "    entry = x.split()\n",
    "    if len(entry) == 2:\n",
    "        success_key[entry[0]] = eval(entry[1])"
   ]
  },
  {
   "cell_type": "code",
   "execution_count": 5,
   "id": "cf98f240",
   "metadata": {},
   "outputs": [],
   "source": [
    "prompts = raw_data.split(\"# prompt:\")[1:] # Removed Promptless session"
   ]
  },
  {
   "cell_type": "code",
   "execution_count": 6,
   "id": "5bf69fcc",
   "metadata": {},
   "outputs": [],
   "source": [
    "data = []\n",
    "for prompt in prompts:\n",
    "    sessions = prompt[prompt.index(\"\\n\"):].split(\"# user:\")\n",
    "\n",
    "    for session in sessions: \n",
    "        if len(session) <= 1:\n",
    "            continue\n",
    "        \n",
    "        \n",
    "        exercises = session[session.index(\"\\n\"):].split(\"\\n\") \n",
    "        exercises = list(filter(lambda x: len(x) > 0, exercises))\n",
    "    \n",
    "        word_tokens = []\n",
    "        word_flags = []\n",
    "        word_parts = []\n",
    "        \n",
    "        for exercise in exercises:\n",
    "            exercise_data = exercise.split() \n",
    "            \n",
    "            word_tokens.append(exercise_data[1])\n",
    "            word_flags.append(success_key[exercise_data[0]])\n",
    "            word_parts.append(exercise_data[2])\n",
    "    \n",
    "        sessionId = exercise[:10]\n",
    "        userId = session[:session.index(\"\\n\")].split()[0] \n",
    "        days = session[:session.index(\"\\n\")].split()[2] \n",
    "\n",
    "        data.append({\n",
    "            \"sessionId\": sessionId,\n",
    "            \"userId\": userId,\n",
    "            \"words\": word_tokens,\n",
    "            \"flags\": word_flags,\n",
    "            \"parts\": word_parts,\n",
    "            \"day\": eval(days[len(\"days:\"):])\n",
    "        })"
   ]
  },
  {
   "cell_type": "code",
   "execution_count": 8,
   "id": "d0a10d48",
   "metadata": {},
   "outputs": [],
   "source": [
    "df = pd.DataFrame(data)"
   ]
  },
  {
   "cell_type": "code",
   "execution_count": 10,
   "id": "84f7221b",
   "metadata": {},
   "outputs": [],
   "source": [
    "df.to_csv(\"data.csv\")"
   ]
  },
  {
   "cell_type": "code",
   "execution_count": 9,
   "id": "1051be81",
   "metadata": {},
   "outputs": [],
   "source": [
    "with open(\"session-data.json\", \"w\") as f:\n",
    "    json.dump(data, f)"
   ]
  },
  {
   "cell_type": "code",
   "execution_count": null,
   "id": "b9eab1d7",
   "metadata": {},
   "outputs": [],
   "source": []
  }
 ],
 "metadata": {
  "kernelspec": {
   "display_name": "Python 3",
   "language": "python",
   "name": "python3"
  },
  "language_info": {
   "codemirror_mode": {
    "name": "ipython",
    "version": 3
   },
   "file_extension": ".py",
   "mimetype": "text/x-python",
   "name": "python",
   "nbconvert_exporter": "python",
   "pygments_lexer": "ipython3",
   "version": "3.8.5"
  }
 },
 "nbformat": 4,
 "nbformat_minor": 5
}

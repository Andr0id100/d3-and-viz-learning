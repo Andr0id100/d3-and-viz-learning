{
 "cells": [
  {
   "cell_type": "code",
   "execution_count": 1,
   "id": "bfe0fc8e",
   "metadata": {},
   "outputs": [],
   "source": [
    "import matplotlib.pyplot as plt\n",
    "import random"
   ]
  },
  {
   "cell_type": "markdown",
   "id": "6f2268e8",
   "metadata": {},
   "source": [
    "## TODO\n",
    "* Read Raw Session Data\n",
    "* Read Raw Key Data\n",
    "* Create Key Dictionary\n",
    "* Process Sessions"
   ]
  },
  {
   "cell_type": "markdown",
   "id": "1d931e52",
   "metadata": {},
   "source": [
    "## Data Format\n",
    "\\(\n",
    ">Unique-ID (10 chars)  \n",
    ">User-ID  \n",
    ">[Word]  \n",
    ">[Correct-Flag]  \n",
    ">[Part-of-Speech]  \n",
    ">Date  \n",
    "  \n",
    "\\)"
   ]
  },
  {
   "cell_type": "code",
   "execution_count": 2,
   "id": "a3102418",
   "metadata": {},
   "outputs": [],
   "source": [
    "with open(\"slam-data/es_en.slam.20190204.dev\", \"r\") as f:\n",
    "    raw_data = f.read()"
   ]
  },
  {
   "cell_type": "code",
   "execution_count": 3,
   "id": "2d16c458",
   "metadata": {},
   "outputs": [],
   "source": [
    "with open(\"slam-data/es_en.slam.20190204.dev.key\", \"r\") as f:\n",
    "    raw_success_data = f.read()"
   ]
  },
  {
   "cell_type": "code",
   "execution_count": 4,
   "id": "bd30e821",
   "metadata": {},
   "outputs": [],
   "source": [
    "success_key = {}\n",
    "for x in raw_success_data.split(\"\\n\"):\n",
    "    entry = x.split()\n",
    "    if len(entry) == 2:\n",
    "        success_key[entry[0]] = eval(entry[1])"
   ]
  },
  {
   "cell_type": "code",
   "execution_count": 5,
   "id": "d5eb8710",
   "metadata": {},
   "outputs": [],
   "source": [
    "prompts = raw_data.split(\"# prompt:\")[1:] # Removed Promptless session"
   ]
  },
  {
   "cell_type": "code",
   "execution_count": 6,
   "id": "9dec7439",
   "metadata": {},
   "outputs": [],
   "source": [
    "data = []\n",
    "for prompt in prompts:\n",
    "    sessions = prompt[prompt.index(\"\\n\"):].split(\"# user:\")\n",
    "\n",
    "    for session in sessions: \n",
    "        if len(session) <= 1:\n",
    "            continue\n",
    "        \n",
    "        \n",
    "        exercises = session[session.index(\"\\n\"):].split(\"\\n\") \n",
    "        exercises = list(filter(lambda x: len(x) > 0, exercises))\n",
    "    \n",
    "        word_tokens = []\n",
    "        word_flags = []\n",
    "        word_parts = []\n",
    "        \n",
    "        for exercise in exercises:\n",
    "            exercise_data = exercise.split() \n",
    "            \n",
    "            word_tokens.append(exercise_data[1])\n",
    "            word_flags.append(success_key[exercise_data[0]])\n",
    "            word_parts.append(exercise_data[2])\n",
    "    \n",
    "        sessionId = exercise[:10]\n",
    "        userId = session[:session.index(\"\\n\")].split()[0] \n",
    "        days = session[:session.index(\"\\n\")].split()[2] \n",
    "\n",
    "        data.append({\n",
    "            \"sessionId\": sessionId,\n",
    "            \"userId\": userId,\n",
    "            \"words\": word_tokens,\n",
    "            \"flags\": word_flags,\n",
    "            \"parts\": word_parts,\n",
    "            \"day\": eval(days[len(\"days:\"):])\n",
    "        })"
   ]
  },
  {
   "cell_type": "markdown",
   "id": "8148154e",
   "metadata": {},
   "source": [
    "## Plots"
   ]
  },
  {
   "cell_type": "code",
   "execution_count": 7,
   "id": "368b71bb",
   "metadata": {},
   "outputs": [],
   "source": [
    "user_ids = list(set(list(map(lambda x: x[\"userId\"], data))))"
   ]
  },
  {
   "cell_type": "code",
   "execution_count": 12,
   "id": "b59ce823",
   "metadata": {},
   "outputs": [],
   "source": [
    "import json\n",
    "with open(\"user_ids.json\", \"w\") as f:\n",
    "    json.dump(user_ids, f, indent=2)"
   ]
  },
  {
   "cell_type": "code",
   "execution_count": 11,
   "id": "3ffeee3c",
   "metadata": {
    "collapsed": true
   },
   "outputs": [
    {
     "name": "stdout",
     "output_type": "stream",
     "text": [
      "367\r"
     ]
    },
    {
     "ename": "KeyboardInterrupt",
     "evalue": "",
     "output_type": "error",
     "traceback": [
      "\u001b[0;31m---------------------------------------------------------------------------\u001b[0m",
      "\u001b[0;31mKeyboardInterrupt\u001b[0m                         Traceback (most recent call last)",
      "\u001b[0;32m<ipython-input-11-b6cc9b9922e3>\u001b[0m in \u001b[0;36m<module>\u001b[0;34m\u001b[0m\n\u001b[1;32m      2\u001b[0m \u001b[0;32mfor\u001b[0m \u001b[0;34m(\u001b[0m\u001b[0mindex\u001b[0m\u001b[0;34m,\u001b[0m \u001b[0muid\u001b[0m\u001b[0;34m)\u001b[0m \u001b[0;32min\u001b[0m \u001b[0menumerate\u001b[0m\u001b[0;34m(\u001b[0m\u001b[0muser_ids\u001b[0m\u001b[0;34m)\u001b[0m\u001b[0;34m:\u001b[0m\u001b[0;34m\u001b[0m\u001b[0;34m\u001b[0m\u001b[0m\n\u001b[1;32m      3\u001b[0m     \u001b[0mprint\u001b[0m\u001b[0;34m(\u001b[0m\u001b[0mindex\u001b[0m\u001b[0;34m,\u001b[0m \u001b[0mend\u001b[0m\u001b[0;34m=\u001b[0m\u001b[0;34m\"\\r\"\u001b[0m\u001b[0;34m)\u001b[0m\u001b[0;34m\u001b[0m\u001b[0;34m\u001b[0m\u001b[0m\n\u001b[0;32m----> 4\u001b[0;31m     user_day_data = list(\n\u001b[0m\u001b[1;32m      5\u001b[0m         map(\n\u001b[1;32m      6\u001b[0m             \u001b[0;32mlambda\u001b[0m \u001b[0mx\u001b[0m\u001b[0;34m:\u001b[0m \u001b[0mx\u001b[0m\u001b[0;34m[\u001b[0m\u001b[0;34m\"day\"\u001b[0m\u001b[0;34m]\u001b[0m\u001b[0;34m,\u001b[0m\u001b[0;34m\u001b[0m\u001b[0;34m\u001b[0m\u001b[0m\n",
      "\u001b[0;32m<ipython-input-11-b6cc9b9922e3>\u001b[0m in \u001b[0;36m<lambda>\u001b[0;34m(x)\u001b[0m\n\u001b[1;32m      6\u001b[0m             \u001b[0;32mlambda\u001b[0m \u001b[0mx\u001b[0m\u001b[0;34m:\u001b[0m \u001b[0mx\u001b[0m\u001b[0;34m[\u001b[0m\u001b[0;34m\"day\"\u001b[0m\u001b[0;34m]\u001b[0m\u001b[0;34m,\u001b[0m\u001b[0;34m\u001b[0m\u001b[0;34m\u001b[0m\u001b[0m\n\u001b[1;32m      7\u001b[0m             filter(\n\u001b[0;32m----> 8\u001b[0;31m                 \u001b[0;32mlambda\u001b[0m \u001b[0mx\u001b[0m\u001b[0;34m:\u001b[0m \u001b[0mx\u001b[0m\u001b[0;34m[\u001b[0m\u001b[0;34m\"userId\"\u001b[0m\u001b[0;34m]\u001b[0m \u001b[0;34m==\u001b[0m \u001b[0muid\u001b[0m\u001b[0;34m,\u001b[0m\u001b[0;34m\u001b[0m\u001b[0;34m\u001b[0m\u001b[0m\n\u001b[0m\u001b[1;32m      9\u001b[0m                 \u001b[0mdata\u001b[0m\u001b[0;34m\u001b[0m\u001b[0;34m\u001b[0m\u001b[0m\n\u001b[1;32m     10\u001b[0m             )\n",
      "\u001b[0;31mKeyboardInterrupt\u001b[0m: "
     ]
    }
   ],
   "source": [
    "diffs = []\n",
    "for (index, uid) in enumerate(user_ids):\n",
    "    print(index, end=\"\\r\")\n",
    "    user_day_data = list(\n",
    "        map(\n",
    "            lambda x: x[\"day\"],\n",
    "            filter(\n",
    "                lambda x: x[\"userId\"] == uid,\n",
    "                data\n",
    "            )\n",
    "        )\n",
    "    )\n",
    "    diff = max(user_day_data) - min(user_day_data)\n",
    "    diffs.append(diff)"
   ]
  },
  {
   "cell_type": "markdown",
   "id": "2a1e8113",
   "metadata": {},
   "source": [
    "Analysis shows that only data for 10-20 days exist"
   ]
  },
  {
   "cell_type": "markdown",
   "id": "fdd147d5",
   "metadata": {},
   "source": [
    "### Day Position"
   ]
  },
  {
   "cell_type": "code",
   "execution_count": 13,
   "id": "75ea94ba",
   "metadata": {},
   "outputs": [
    {
     "data": {
      "text/plain": [
       "<matplotlib.collections.PathCollection at 0x7fa9bae06100>"
      ]
     },
     "execution_count": 13,
     "metadata": {},
     "output_type": "execute_result"
    },
    {
     "data": {
      "image/png": "[encoded data removed]",
      "text/plain": [
       "<Figure size 432x288 with 1 Axes>"
      ]
     },
     "metadata": {
      "needs_background": "light"
     },
     "output_type": "display_data"
    }
   ],
   "source": [
    "uid = random.choice(user_ids)\n",
    "# uid = \"NM6fsg7V\"\n",
    "user_data = list(filter(lambda x: x[\"userId\"] == uid, data))\n",
    "\n",
    "fig, ax = plt.subplots()\n",
    "ax.set_title(uid)\n",
    "# ax.set_xlim([min(), 30])\n",
    "ax.scatter(\n",
    "    list(map(lambda x: x[\"day\"], user_data)),\n",
    "    [random.random() for _ in range(len(user_data))],\n",
    ")"
   ]
  },
  {
   "cell_type": "code",
   "execution_count": 10,
   "id": "deefe5b3",
   "metadata": {},
   "outputs": [],
   "source": [
    "#NM6fsg7V"
   ]
  },
  {
   "cell_type": "code",
   "execution_count": 11,
   "id": "fb032c51",
   "metadata": {},
   "outputs": [],
   "source": [
    "import json\n",
    "with open(\"sample-user-data.json\", \"w\") as f:\n",
    "    json.dump(user_data, f, indent=2)"
   ]
  },
  {
   "cell_type": "markdown",
   "id": "b4082703",
   "metadata": {},
   "source": [
    "### Text Testing"
   ]
  },
  {
   "cell_type": "code",
   "execution_count": 54,
   "id": "183a6199",
   "metadata": {},
   "outputs": [
    {
     "data": {
      "text/plain": [
       "Text(0.7, 0.5, 'Bad')"
      ]
     },
     "execution_count": 54,
     "metadata": {},
     "output_type": "execute_result"
    },
    {
     "data": {
      "image/png": "[encoded data removed]",
      "text/plain": [
       "<Figure size 432x288 with 1 Axes>"
      ]
     },
     "metadata": {
      "needs_background": "light"
     },
     "output_type": "display_data"
    }
   ],
   "source": [
    "fig, ax = plt.subplots()\n",
    "ax.text(\n",
    "    0.25,\n",
    "    0.5,\n",
    "    \"Good\",\n",
    "    size=40, \n",
    "    bbox=dict(\n",
    "        boxstyle=\"round\",\n",
    "        fc=\"#ff616d\",\n",
    "    )\n",
    ")\n",
    "\n",
    "ax.text(\n",
    "    0.7,\n",
    "    0.5,\n",
    "    \"Bad\",\n",
    "    size=40, \n",
    "    bbox=dict(\n",
    "        boxstyle=\"round\",\n",
    "        fc=\"#66de93\",\n",
    "    )\n",
    ")"
   ]
  },
  {
   "cell_type": "code",
   "execution_count": 141,
   "id": "869fb7a5",
   "metadata": {
    "scrolled": false
   },
   "outputs": [
    {
     "data": {
      "image/png": "[encoded data removed]",
      "text/plain": [
       "<Figure size 720x360 with 1 Axes>"
      ]
     },
     "metadata": {
      "needs_background": "light"
     },
     "output_type": "display_data"
    }
   ],
   "source": [
    "fig, ax = plt.subplots(figsize=(10, 5))\n",
    "ax.set_axis_off()\n",
    "ax.set_xlim(0, 100)\n",
    "ax.set_ylim(0, 100)\n",
    "\n",
    "y = 10\n",
    "for sentence in user_data:\n",
    "#     x = sentence[\"day\"]\n",
    "    x = 10\n",
    "    for (index, word) in enumerate(sentence[\"words\"]):\n",
    "        t = ax.text(\n",
    "            x,\n",
    "            y,\n",
    "            word,\n",
    "            size=10,\n",
    "            bbox=dict(\n",
    "                fc=\"#66de93\" if sentence[\"flags\"][index] == 0 else \"#ff616d\",\n",
    "            )\n",
    "        )\n",
    "        x += 10\n",
    "    y += 8"
   ]
  }
 ],
 "metadata": {
  "kernelspec": {
   "display_name": "Python 3",
   "language": "python",
   "name": "python3"
  },
  "language_info": {
   "codemirror_mode": {
    "name": "ipython",
    "version": 3
   },
   "file_extension": ".py",
   "mimetype": "text/x-python",
   "name": "python",
   "nbconvert_exporter": "python",
   "pygments_lexer": "ipython3",
   "version": "3.8.5"
  }
 },
 "nbformat": 4,
 "nbformat_minor": 5
}

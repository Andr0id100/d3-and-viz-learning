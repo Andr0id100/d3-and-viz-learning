{
 "cells": [
  {
   "cell_type": "code",
   "execution_count": 1,
   "id": "dc2f9e3f",
   "metadata": {},
   "outputs": [],
   "source": [
    "import pandas as pd"
   ]
  },
  {
   "cell_type": "code",
   "execution_count": 3,
   "id": "eb91de43",
   "metadata": {},
   "outputs": [],
   "source": [
    "df = pd.read_csv(\"./data.json\")"
   ]
  },
  {
   "cell_type": "code",
   "execution_count": 4,
   "id": "409da14d",
   "metadata": {},
   "outputs": [
    {
     "data": {
      "text/html": [
       "<div>\n",
       "<style scoped>\n",
       "    .dataframe tbody tr th:only-of-type {\n",
       "        vertical-align: middle;\n",
       "    }\n",
       "\n",
       "    .dataframe tbody tr th {\n",
       "        vertical-align: top;\n",
       "    }\n",
       "\n",
       "    .dataframe thead th {\n",
       "        text-align: right;\n",
       "    }\n",
       "</style>\n",
       "<table border=\"1\" class=\"dataframe\">\n",
       "  <thead>\n",
       "    <tr style=\"text-align: right;\">\n",
       "      <th></th>\n",
       "      <th>{\"filter_stream\":false</th>\n",
       "      <th>language_data:{\"de\":{\"streak\":522</th>\n",
       "      <th>language_string:\"German\"</th>\n",
       "      <th>level_progress:11303</th>\n",
       "      <th>first_time:false</th>\n",
       "      <th>bonus_rows:[4]</th>\n",
       "      <th>points_rank:5</th>\n",
       "      <th>fluency_score:0.0</th>\n",
       "      <th>push_practice:true</th>\n",
       "      <th>level_tests:[{\"index\":0</th>\n",
       "      <th>...</th>\n",
       "      <th>ab_options:{}</th>\n",
       "      <th>notify_assignment_complete:true</th>\n",
       "      <th>email_verified:true</th>\n",
       "      <th>notify_pass:false</th>\n",
       "      <th>email_word_of_the_day:false</th>\n",
       "      <th>push_promotion:false</th>\n",
       "      <th>rupees:2092</th>\n",
       "      <th>email_streak_freeze_used:true</th>\n",
       "      <th>push_streak_saver:true</th>\n",
       "      <th>autoplay:true}</th>\n",
       "    </tr>\n",
       "  </thead>\n",
       "  <tbody>\n",
       "  </tbody>\n",
       "</table>\n",
       "<p>0 rows × 40443 columns</p>\n",
       "</div>"
      ],
      "text/plain": [
       "Empty DataFrame\n",
       "Columns: [{\"filter_stream\":false, language_data:{\"de\":{\"streak\":522, language_string:\"German\", level_progress:11303, first_time:false, bonus_rows:[4], points_rank:5, fluency_score:0.0, push_practice:true, level_tests:[{\"index\":0, attempts:3, completed:false, level:7}, {\"index\":1, attempts:3.1, completed:false.1, level:11}, {\"index\":2, attempts:3.2, completed:false.2, level:17}, {\"index\":3, attempts:3.3, completed:false.3, level:25}, {\"index\":4, attempts:3.4, completed:false.4, level:33}, {\"index\":5, attempts:3.5, completed:false.5, level:41}, {\"index\":6, attempts:3.6, completed:false.6, level:50}], direction_status:\"released\", next_level:null, linkedin_share_url:\"https://www.duolingo.com\", notify_practice:true, notifications:{\"chrome_app_ad\":true, net_promoter:false}, max_cefr_level:null, notify_time:1320, points_ranking_data:[{\"username\":\"EbenezerPo\", language_string:\"German\".1, points_data:{\"languages\":[], total:606369}, avatar:\"//duolingo-images.s3.amazonaws.com/avatars/16094685/f37H_InKPw\", language:\"de\", fullname:\"Ebenezer Poon\", id:16094685, rank:1, self:false}, {\"username\":\"EternalFlameSRB\", language_string:\"German\".2, points_data:{\"languages\":[].1, total:183621}, avatar:\"//duolingo-images.s3.amazonaws.com/avatars/134566180/JKfwYmC_bU\", language:\"de\".1, fullname:\"Miroslav Ranisavljevic\", id:134566180, rank:2, self:false}.1, {\"username\":\"GlauciGarr\", language_string:\"German\".3, points_data:{\"languages\":[].2, total:98978}, avatar:\"//duolingo-images.s3.amazonaws.com/avatars/110826078/ztAZG-S2mj\", language:\"de\".2, fullname:\"Glauci\\u00ea Garrafa\", id:110826078, rank:3, self:false}.2, {\"username\":\"Chappuin\", language_string:\"German\".4, points_data:{\"languages\":[].3, total:58468}, avatar:\"//duolingo-images.s3.amazonaws.com/avatars/457586660/DYla4syIS4\", language:\"de\".3, fullname:\"\\u043f\\u0430\\u0440\\u0435\\u043d\\u044c\", id:457586660, rank:4, self:false}.3, {\"username\":\"Snehal-Ranjan\", language_string:\"German\".5, points_data:{\"languages\":[].4, total:41558}, avatar:\"//duolingo-images.s3.amazonaws.com/avatars/375721868/po2tde0yPw\", language:\"de\".4, fullname:\"Snehal Ranjan\", id:375721868, rank:5, self:true}], num_skills_learned:108, calendar:[{\"skill_id\":\"c16f189e541f7aa2cbe055b2723dfcc9\", improvement:13, event_type:\"lesson\", datetime:1622520506000}, ...]\n",
       "Index: []\n",
       "\n",
       "[0 rows x 40443 columns]"
      ]
     },
     "execution_count": 4,
     "metadata": {},
     "output_type": "execute_result"
    }
   ],
   "source": [
    "df.head()"
   ]
  }
 ],
 "metadata": {
  "kernelspec": {
   "display_name": "Python 3 (ipykernel)",
   "language": "python",
   "name": "python3"
  },
  "language_info": {
   "codemirror_mode": {
    "name": "ipython",
    "version": 3
   },
   "file_extension": ".py",
   "mimetype": "text/x-python",
   "name": "python",
   "nbconvert_exporter": "python",
   "pygments_lexer": "ipython3",
   "version": "3.9.5"
  }
 },
 "nbformat": 4,
 "nbformat_minor": 5
}
